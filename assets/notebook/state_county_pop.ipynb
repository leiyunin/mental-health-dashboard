{
 "cells": [
  {
   "cell_type": "code",
   "execution_count": null,
   "id": "659a1dce",
   "metadata": {},
   "outputs": [],
   "source": [
    "import pandas as pd\n",
    "\n",
    "# Read CSV file and skip the first row (header)\n",
    "df = pd.read_csv('2020_pop.csv', skiprows=1)\n",
    "\n",
    "# Extract columns of interest and create a copy of the subset\n",
    "columns_of_interest = ['Geographic Area Name', 'Estimate!!SEX AND AGE!!Total population']\n",
    "subset_df = df[columns_of_interest].copy()\n",
    "\n",
    "# Extract 'County' and 'State' from the 'Geographic Area Name' column\n",
    "subset_df.loc[:, 'County'] = subset_df['Geographic Area Name'].str.split(',', expand=True)[0].str.strip()\n",
    "subset_df.loc[:, 'State'] = subset_df['Geographic Area Name'].str.split(',', expand=True)[1].str.strip()\n",
    "\n",
    "# Select the final columns for the result\n",
    "col = ['County', 'State', 'Estimate!!SEX AND AGE!!Total population']\n",
    "res = subset_df[col]\n",
    "\n",
    "# Rename the 'Estimate!!SEX AND AGE!!Total population' column to 'Population'\n",
    "res = res.rename(columns={'Estimate!!SEX AND AGE!!Total population': 'Population'})\n",
    "\n",
    "# Save the result to 'county_pop.csv' without the index\n",
    "res.to_csv('county_pop.csv', index=False)\n",
    "\n",
    "# Calculate and save the sum of population for each state to 'state_pop.csv'\n",
    "state_population_sum = res.groupby('State')['Population'].sum().reset_index()\n",
    "state_population_sum.to_csv('state_pop.csv', index=False)"
   ]
  }
 ],
 "metadata": {
  "kernelspec": {
   "display_name": "Python 3 (ipykernel)",
   "language": "python",
   "name": "python3"
  },
  "language_info": {
   "codemirror_mode": {
    "name": "ipython",
    "version": 3
   },
   "file_extension": ".py",
   "mimetype": "text/x-python",
   "name": "python",
   "nbconvert_exporter": "python",
   "pygments_lexer": "ipython3",
   "version": "3.9.12"
  }
 },
 "nbformat": 4,
 "nbformat_minor": 5
}
