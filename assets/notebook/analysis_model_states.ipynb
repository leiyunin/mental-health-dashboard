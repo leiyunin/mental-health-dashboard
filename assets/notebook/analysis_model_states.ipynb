{
  "nbformat": 4,
  "nbformat_minor": 0,
  "metadata": {
    "colab": {
      "provenance": []
    },
    "kernelspec": {
      "name": "python3",
      "display_name": "Python 3"
    },
    "language_info": {
      "name": "python"
    }
  },
  "cells": [
    {
      "cell_type": "code",
      "execution_count": null,
      "metadata": {
        "id": "pgmYMbXxrRjn"
      },
      "outputs": [],
      "source": [
        "import os\n",
        "import numpy as np\n",
        "import pandas as pd\n",
        "from sklearn.preprocessing import StandardScaler\n",
        "import matplotlib.pyplot as plt\n",
        "from scipy.cluster.hierarchy import dendrogram, linkage, cophenet, fcluster\n",
        "from sklearn.cluster import AgglomerativeClustering\n",
        "from scipy.spatial.distance import pdist  # Import pdist\n",
        "from sklearn import metrics\n",
        "from scipy.spatial.distance import euclidean\n",
        "import json"
      ]
    },
    {
      "cell_type": "code",
      "source": [
        "from google.colab import drive\n",
        "drive.mount('/content/drive')"
      ],
      "metadata": {
        "colab": {
          "base_uri": "https://localhost:8080/"
        },
        "id": "nh3pxAujrfUT",
        "outputId": "8868e2f5-18c9-4c41-ba66-ade75620c406"
      },
      "execution_count": null,
      "outputs": [
        {
          "output_type": "stream",
          "name": "stdout",
          "text": [
            "Mounted at /content/drive\n"
          ]
        }
      ]
    },
    {
      "cell_type": "code",
      "source": [
        "folder_path = '/content/drive/Shareddrives/DSCI554 project/Data collection/mental_health_data/data1_MHA_dashboard'\n",
        "filenames = os.listdir(folder_path)\n",
        "result_df = pd.read_csv(f'{folder_path}/depression_age_df.csv')\n",
        "result_df = result_df[['state','latitude','longitude']]\n",
        "for filename in filenames:\n",
        "    if '_age_' in filename:\n",
        "        df = pd.read_csv(os.path.join(folder_path, filename))\n",
        "        for col in df.columns:\n",
        "            if '2023-all_ages' in col and '100K' in col:\n",
        "                result_df = pd.merge(result_df,df[['state',f'{col}']],on=\"state\",how='outer')\n",
        "\n",
        "report_path = '/content/drive/Shareddrives/DSCI554 project/Data collection/mental_health_data/data2_MHA_report/2022_report'\n",
        "filenames = os.listdir(report_path)\n",
        "result_df2 = pd.read_csv(f'{report_path}/21_adults_with_substance_use_disorder_in_the_past_year.csv')\n",
        "result_df2 = result_df2[['state']]\n",
        "result_df2 = result_df2[result_df2['state'] != 'National']\n",
        "target_filenames = {'21_adults_with_substance_use_disorder_in_the_past_year.csv':'adult_disorder',\n",
        "                    '26_youth_with_substance_use_disorder_in_the_past_year.csv':'youth_disorder',\n",
        "                    '31_adults_with_cognitive_disability_who_could_not_see_a_doctor_due_to_costs.csv':'adult_cognitive_disability',\n",
        "                    '35_students_identified_with_emotional_disturbance_for_an_individualized_education_program.csv':'youth_cognitive_disability'}\n",
        "\n",
        "for filename in filenames:\n",
        "    if filename in target_filenames.keys():\n",
        "        df = pd.read_csv(os.path.join(report_path, filename))\n",
        "        df = df[['state','percent','number']]\n",
        "        df = df[df['state'] != 'National']\n",
        "        df.columns = ['state',f'{target_filenames[filename]}_percent',f'{target_filenames[filename]}_number']\n",
        "        df[f'{target_filenames[filename]}_percent'] = pd.to_numeric(df[f'{target_filenames[filename]}_percent'], errors='coerce')\n",
        "        df[f'{target_filenames[filename]}_number'] = pd.to_numeric(df[f'{target_filenames[filename]}_number'], errors='coerce')\n",
        "        df[f'{target_filenames[filename]}_total_number'] = (df[f'{target_filenames[filename]}_number']) / (0.01*df[f'{target_filenames[filename]}_percent'])\n",
        "        result_df2 = pd.merge(result_df2, df,on='state',how='outer')\n",
        "\n",
        "extracted_result_df2 = pd.DataFrame(result_df2['state'].copy())\n",
        "\n",
        "extracted_result_df2['cognitive_disability'] = 100*(\n",
        "    result_df2['youth_cognitive_disability_number'] + result_df2['adult_cognitive_disability_number']\n",
        ") / (\n",
        "    result_df2['youth_cognitive_disability_total_number'] + result_df2['adult_cognitive_disability_total_number']\n",
        ")\n",
        "\n",
        "extracted_result_df2['disorder'] = 100*(\n",
        "    result_df2['adult_disorder_number'] + result_df2['youth_disorder_number']\n",
        ") / (\n",
        "    result_df2['adult_disorder_total_number'] + result_df2['youth_cognitive_disability_number']\n",
        ")\n",
        "\n",
        "result_df = pd.merge(result_df,extracted_result_df2,on='state',how='outer')\n",
        "result_df.columns = ['state','latitude','longitude','depression','psychosis','ptsd','suicide','trauma','cognitive_disability','disorder']"
      ],
      "metadata": {
        "id": "WpK6S8TPsstd"
      },
      "execution_count": null,
      "outputs": []
    },
    {
      "cell_type": "markdown",
      "source": [
        "radar chart - average performance on mental health features"
      ],
      "metadata": {
        "id": "kJ3fhXumZwJt"
      }
    },
    {
      "cell_type": "code",
      "source": [
        "mental_health_features = result_df[['depression', 'psychosis', 'ptsd', 'suicide', 'trauma', 'cognitive_disability', 'disorder']]\n",
        "print(mental_health_features.describe())\n",
        "# Standardize the features\n",
        "scaler = StandardScaler()\n",
        "scaled_features = scaler.fit_transform(mental_health_features)\n",
        "\n",
        "# Perform hierarchical clustering\n",
        "linkage_method = 'ward'  # You can try other methods as well\n",
        "linkage_matrix = linkage(scaled_features, method=linkage_method)\n",
        "\n",
        "# Dendrogram\n",
        "plt.figure(figsize=(12, 6))\n",
        "plt.title('Hierarchical Clustering Dendrogram')\n",
        "dendrogram(linkage_matrix)\n",
        "plt.show()\n",
        "\n",
        "# Cophenetic correlation coefficient\n",
        "c, coph_dists = cophenet(linkage_matrix, pdist(scaled_features))\n",
        "print(f'Cophenetic Correlation Coefficient: {c:.3f}')\n",
        "\n",
        "# Calinski-Harabasz Index\n",
        "ch_scores = []\n",
        "for n_clusters in range(3, 11):\n",
        "    model = AgglomerativeClustering(n_clusters=n_clusters, linkage=linkage_method)\n",
        "    labels = model.fit_predict(scaled_features)\n",
        "    ch_score = metrics.calinski_harabasz_score(scaled_features, labels)\n",
        "    ch_scores.append(ch_score)\n",
        "\n",
        "# Plot Calinski-Harabasz Index\n",
        "plt.figure(figsize=(8, 4))\n",
        "plt.plot(range(3, 11), ch_scores, marker='o')\n",
        "plt.title('Calinski-Harabasz Index for Different Numbers of Clusters')\n",
        "plt.xlabel('Number of Clusters')\n",
        "plt.ylabel('Calinski-Harabasz Index')\n",
        "plt.show()\n"
      ],
      "metadata": {
        "colab": {
          "base_uri": "https://localhost:8080/",
          "height": 1000
        },
        "id": "ctUWemMttU5o",
        "outputId": "5459797e-8f05-4b2b-988f-b3f9bf9434d2"
      },
      "execution_count": null,
      "outputs": [
        {
          "output_type": "stream",
          "name": "stdout",
          "text": [
            "       depression  psychosis       ptsd    suicide      trauma  \\\n",
            "count   51.000000  51.000000  51.000000  51.000000   51.000000   \n",
            "mean    30.668972  33.475846  13.422851  15.556723   70.347059   \n",
            "std      4.718872   5.198890   3.290769   3.136680   14.215912   \n",
            "min     21.950469  23.485920   7.154319   9.401156   42.000000   \n",
            "25%     27.897307  30.017426  10.791477  13.475686   60.050000   \n",
            "50%     30.516618  32.389270  13.494988  15.681878   72.300000   \n",
            "75%     32.888320  35.235183  15.657248  17.408386   80.250000   \n",
            "max     50.227045  56.368939  23.612171  25.659469  106.100000   \n",
            "\n",
            "       cognitive_disability   disorder  \n",
            "count             51.000000  51.000000  \n",
            "mean              25.506653   8.506061  \n",
            "std                4.133759   1.290740  \n",
            "min               17.761882   6.307285  \n",
            "25%               21.905363   7.632480  \n",
            "50%               25.260255   8.273193  \n",
            "75%               28.245895   9.170565  \n",
            "max               34.973245  12.633625  \n"
          ]
        },
        {
          "output_type": "display_data",
          "data": {
            "text/plain": [
              "<Figure size 1200x600 with 1 Axes>"
            ],
            "image/png": "[encoded data removed]"
          },
          "metadata": {}
        },
        {
          "output_type": "stream",
          "name": "stdout",
          "text": [
            "Cophenetic Correlation Coefficient: 0.506\n"
          ]
        },
        {
          "output_type": "display_data",
          "data": {
            "text/plain": [
              "<Figure size 800x400 with 1 Axes>"
            ],
            "image/png": "[encoded data removed]"
          },
          "metadata": {}
        }
      ]
    },
    {
      "cell_type": "code",
      "source": [
        "num_clusters = 4\n",
        "clusters = fcluster(linkage_matrix, t=num_clusters, criterion='maxclust')\n",
        "\n",
        "# Create a DataFrame with the original data and cluster assignments\n",
        "result_df_with_clusters = pd.concat([result_df, pd.DataFrame({'hcluster': clusters}, index=result_df.index)], axis=1)\n",
        "result_df_with_clusters\n",
        "import plotly.graph_objects as go\n",
        "result_df_with_clusters = result_df_with_clusters[['depression','psychosis','ptsd','suicide','cognitive_disability','disorder','hcluster']]\n",
        "cluster_avg = result_df_with_clusters.groupby('hcluster').mean()\n",
        "cluster_avg = pd.concat([cluster_avg.transpose(), pd.DataFrame(result_df_with_clusters.mean()[:-1])], axis=1).transpose()\n",
        "\n",
        "# Create a radar chart with multiple traces for each cluster\n",
        "fig = go.Figure()\n",
        "\n",
        "for cluster in cluster_avg.index:\n",
        "    fig.add_trace(go.Scatterpolar(\n",
        "        r=cluster_avg.loc[cluster].values,\n",
        "        theta=cluster_avg.columns,\n",
        "        fill='toself',\n",
        "        name=f'Cluster {cluster}'\n",
        "    ))\n",
        "\n",
        "fig.update_layout(\n",
        "    polar=dict(\n",
        "        radialaxis=dict(\n",
        "            visible=True,\n",
        "        ),\n",
        "    ),\n",
        "    showlegend=True,\n",
        "    title='Radar Chart for Clusters',\n",
        ")\n",
        "\n",
        "fig.show()"
      ],
      "metadata": {
        "id": "PBCjVzAEvsdf"
      },
      "execution_count": null,
      "outputs": []
    },
    {
      "cell_type": "code",
      "source": [
        "d3_radar = dict()\n",
        "for cluster, row in cluster_avg.iterrows():\n",
        "    if cluster != 0:\n",
        "        d3_radar[cluster] = [{'axis': column, 'value': value} for column, value in row.items()]\n",
        "    else:\n",
        "        d3_radar['mean'] = [{'axis': column, 'value': value} for column, value in row.items()]\n",
        "\n",
        "json_data = json.dumps(d3_radar)\n",
        "with open('radar_data.json', 'w') as json_file:\n",
        "    json_file.write(json_data)"
      ],
      "metadata": {
        "id": "IFi8ea1QxGqQ"
      },
      "execution_count": null,
      "outputs": []
    },
    {
      "cell_type": "markdown",
      "source": [
        "network - prevalence, cluster distance"
      ],
      "metadata": {
        "id": "9xzHHnvOagcY"
      }
    },
    {
      "cell_type": "code",
      "source": [
        "change_lat_lng = {42: [-72.4, 38.9],5: [-72.7678, 45.5584], 21: [-70.49, 43.66], 11: [-69.4757, 41.4966],44: [-72.7028, 40.9]}\n",
        "for state_id, coordinate in change_lat_lng.items():\n",
        "    result_df.loc[state_id,'latitude'] = coordinate[1]\n",
        "    result_df.loc[state_id,'longitude'] = coordinate[0]"
      ],
      "metadata": {
        "id": "HFb1V8YUbkr2"
      },
      "execution_count": null,
      "outputs": []
    },
    {
      "cell_type": "code",
      "source": [
        "report_path = '/content/drive/Shareddrives/DSCI554 project/Data collection/mental_health_data/data2_MHA_report/2022_report'\n",
        "filenames = os.listdir(report_path)\n",
        "prevalence_df = pd.read_csv(f'{report_path}/20_adult_prevalence_of_mental_illness.csv')\n",
        "prevalence_df = prevalence_df[['state']]\n",
        "prevalence_df = prevalence_df[prevalence_df['state'] != 'National']\n",
        "target_filenames = {'20_adult_prevalence_of_mental_illness.csv':'adult_prevalence',\n",
        "                    '25_youth_prevalence_of_mental_illness.csv':'youth_prevalence'}\n",
        "for filename in filenames:\n",
        "    if filename in target_filenames.keys():\n",
        "        df = pd.read_csv(os.path.join(report_path, filename))\n",
        "        df = df[['state','percent','number']]\n",
        "        df = df[df['state'] != 'National']\n",
        "        df.columns = ['state',f'{target_filenames[filename]}_percent',f'{target_filenames[filename]}_number']\n",
        "        df[f'{target_filenames[filename]}_percent'] = pd.to_numeric(df[f'{target_filenames[filename]}_percent'], errors='coerce')\n",
        "        df[f'{target_filenames[filename]}_number'] = pd.to_numeric(df[f'{target_filenames[filename]}_number'], errors='coerce')\n",
        "        df[f'{target_filenames[filename]}_total_number'] = (df[f'{target_filenames[filename]}_number']) / (0.01*df[f'{target_filenames[filename]}_percent'])\n",
        "        prevalence_df = pd.merge(prevalence_df, df,on='state',how='outer')\n",
        "\n",
        "extracted_prevalence_df = pd.DataFrame(prevalence_df['state'].copy())\n",
        "\n",
        "extracted_prevalence_df['prevalence_percent'] = 100*(\n",
        "    prevalence_df['youth_prevalence_number'] + prevalence_df['adult_prevalence_number']\n",
        ") / (\n",
        "    prevalence_df['youth_prevalence_total_number'] + prevalence_df['adult_prevalence_total_number']\n",
        ")\n",
        "extracted_prevalence_df = pd.merge(result_df[['state','latitude','longitude']],extracted_prevalence_df,on='state', how ='outer')\n",
        "# extracted_prevalence_df"
      ],
      "metadata": {
        "id": "rIRIb9XPZqpE"
      },
      "execution_count": null,
      "outputs": []
    },
    {
      "cell_type": "code",
      "source": [
        "cluster_means = []\n",
        "for cluster_id in np.unique(clusters):\n",
        "    cluster_points = result_df_with_clusters[clusters == cluster_id]\n",
        "    cluster_mean = np.mean(cluster_points, axis=0)\n",
        "    cluster_means.append(cluster_mean)\n",
        "\n",
        "nearest_nodes = []\n",
        "for cluster_id, cluster_mean in zip(np.unique(clusters), cluster_means):\n",
        "    cluster_points = result_df_with_clusters[clusters == cluster_id]\n",
        "    nearest_node_index = np.argmin(np.linalg.norm(cluster_points - cluster_mean, axis=1))\n",
        "    nearest_node = cluster_points.iloc[nearest_node_index]\n",
        "    nearest_nodes.append(nearest_node)"
      ],
      "metadata": {
        "id": "6v4NzB7u7KJH"
      },
      "execution_count": null,
      "outputs": []
    },
    {
      "cell_type": "code",
      "source": [
        "pairwise = []\n",
        "stand_country_dict = {}\n",
        "for idx, series in enumerate(nearest_nodes):\n",
        "    nearest_node_id = series.name\n",
        "    stand_country_dict[idx+1] = result_df.iloc[nearest_node_id][0]\n",
        "    for point_id in result_df_with_clusters[clusters == idx+1].index:\n",
        "        target_lat = result_df.iloc[point_id]['latitude']\n",
        "        target_lng = result_df.iloc[point_id]['longitude']\n",
        "        source_lat = result_df.iloc[nearest_node_id]['latitude']\n",
        "        source_lng = result_df.iloc[nearest_node_id]['longitude']\n",
        "        dist = euclidean(result_df_with_clusters.iloc[point_id], result_df_with_clusters.iloc[nearest_node_id])\n",
        "        pairwise.append([idx+1, nearest_node_id,[source_lng,source_lat], point_id, [target_lng,target_lat],dist])\n",
        "link_df = pd.DataFrame(pairwise, columns = ['cluster','source','source_coordinates','target','target_coordinates','relationship'])\n",
        "node_df = pd.concat([extracted_prevalence_df, result_df_with_clusters[['hcluster']]], axis=1)\n",
        "node_df['coordinates'] = node_df.apply(lambda row: [row['longitude'],row['latitude']], axis=1)\n",
        "node_df = node_df[['state','prevalence_percent','hcluster','coordinates']]\n",
        "node_df['id'] = node_df.index"
      ],
      "metadata": {
        "id": "E6Nk-O_GA441"
      },
      "execution_count": null,
      "outputs": []
    },
    {
      "cell_type": "code",
      "source": [
        "mean_pp = dict(node_df.groupby('hcluster')['prevalence_percent'].mean())\n",
        "len_memeber = dict(node_df.groupby('hcluster')['id'].count())\n",
        "\n",
        "mean_prevalence = []\n",
        "stand_country_name = []\n",
        "c_len_member = []\n",
        "node_df[node_df['id'] == 17]['state']\n",
        "for i in range(len(node_df)):\n",
        "    mean_prevalence.append(mean_pp[node_df.iloc[i]['hcluster']])\n",
        "    stand_country_name.append(stand_country_dict[node_df.iloc[i]['hcluster']])\n",
        "    c_len_member.append(len_memeber[node_df.iloc[i]['hcluster']])\n",
        "node_df = pd.concat([node_df, pd.DataFrame(mean_prevalence), pd.DataFrame(stand_country_name), pd.DataFrame(c_len_member)], axis=1)"
      ],
      "metadata": {
        "id": "fkIKCnsgkMBb"
      },
      "execution_count": null,
      "outputs": []
    },
    {
      "cell_type": "code",
      "source": [
        "node_df.columns = ['state','prevalence_percent','hcluster','coordinates','id','mean_pervalence','representative','cluster_mem_number']\n",
        "# node_df"
      ],
      "metadata": {
        "id": "TRCf9IeumMcZ"
      },
      "execution_count": null,
      "outputs": []
    },
    {
      "cell_type": "code",
      "source": [
        "folder_path = '/content/drive/Shareddrives/DSCI554 project/Data collection/mental_health_data'\n",
        "abbrv_df = pd.read_csv(f'{folder_path}/abbrv.csv')\n",
        "node_df = pd.merge(node_df,abbrv_df,on='state',how='outer')\n",
        "# node_df"
      ],
      "metadata": {
        "id": "SsECQAETOYx8"
      },
      "execution_count": null,
      "outputs": []
    },
    {
      "cell_type": "code",
      "source": [
        "d3_network = {}\n",
        "d3_network['nodes'] = node_df.to_dict(orient='records')\n",
        "d3_network['links'] = link_df.to_dict(orient='records')\n",
        "\n",
        "json_data = json.dumps(d3_network)\n",
        "\n",
        "with open('network_data.json', 'w') as json_file:\n",
        "    json_file.write(json_data)"
      ],
      "metadata": {
        "id": "d2yNDkugEGZT"
      },
      "execution_count": null,
      "outputs": []
    },
    {
      "cell_type": "code",
      "source": [
        "min(link_df['relationship'])"
      ],
      "metadata": {
        "id": "R0IMoNHXVkE6"
      },
      "execution_count": null,
      "outputs": []
    },
    {
      "cell_type": "markdown",
      "source": [
        "grouped bar chart - factors behind"
      ],
      "metadata": {
        "id": "T-fo400VLncO"
      }
    },
    {
      "cell_type": "code",
      "source": [
        "factor_df = pd.read_csv(f'{folder_path}/factor.csv')\n",
        "factor_df = pd.merge(factor_df, node_df[['state','prevalence_percent','hcluster']],on='state',how='outer')"
      ],
      "metadata": {
        "id": "e5NCdQkTLt4I"
      },
      "execution_count": null,
      "outputs": []
    },
    {
      "cell_type": "code",
      "source": [
        "scaler = StandardScaler()\n",
        "scaled_factor = scaler.fit_transform(factor_df.iloc[:,1:9])\n",
        "# len(scaled_factor[4 == factor_df['hcluster']])"
      ],
      "metadata": {
        "id": "961thH1KQq2c"
      },
      "execution_count": null,
      "outputs": []
    },
    {
      "cell_type": "code",
      "source": [
        "corr_df = pd.DataFrame()\n",
        "for cluster_id in factor_df['hcluster'].unique():\n",
        "    cluster_scaled_factor = pd.DataFrame(scaled_factor[cluster_id == factor_df['hcluster']])\n",
        "    cluster_scaled_factor.columns = ['disability','unemployment','higher_education','uninsured','family_median_income','GDP','ACPSA','prevalence_percent']\n",
        "    cluster_corr = cluster_scaled_factor.corr()\n",
        "    corr_df = pd.concat([corr_df, pd.DataFrame(cluster_corr['prevalence_percent'])], axis=1)\n",
        "\n",
        "cluster_scaled_factor = pd.DataFrame(scaled_factor)\n",
        "cluster_scaled_factor.columns = ['disability','unemployment','higher_education','uninsured','family_median_income','GDP','ACPSA','prevalence_percent']\n",
        "cluster_corr = cluster_scaled_factor.corr()\n",
        "corr_df = pd.concat([corr_df, pd.DataFrame(cluster_corr['prevalence_percent'])], axis=1)\n",
        "corr_df.columns = list(str(v) for v in factor_df['hcluster'].unique()) + ['total']\n",
        "corr_df = corr_df.drop(columns = ['4'])\n",
        "corr_df = corr_df.drop('prevalence_percent')\n",
        "corr_df['name'] = ['disability rate','unemployment rate','higher education','healthcare uninsured','family income','state GDP','art and culture economic']\n",
        "corr_dict = corr_df.to_dict(orient='records')\n",
        "\n",
        "json_data = json.dumps(corr_dict)\n",
        "\n",
        "with open('factor_corr.json', 'w') as json_file:\n",
        "    json_file.write(json_data)\n"
      ],
      "metadata": {
        "id": "zfPPjvcmNOYT"
      },
      "execution_count": null,
      "outputs": []
    },
    {
      "cell_type": "markdown",
      "source": [
        "heatmap - health_pattern_by_age"
      ],
      "metadata": {
        "id": "a53bzu1L17wW"
      }
    },
    {
      "cell_type": "code",
      "source": [
        "folder_path = '/content/drive/Shareddrives/DSCI554 project/Data collection/mental_health_data/data1_MHA_dashboard'\n",
        "filenames = os.listdir(folder_path)\n",
        "age_df = pd.read_csv(f'{folder_path}/depression_age_df.csv')\n",
        "age_df = age_df[['state','latitude','longitude']]\n",
        "for filename in filenames:\n",
        "    if '_age_' in filename:\n",
        "        df = pd.read_csv(os.path.join(folder_path, filename))\n",
        "        for col in df.columns:\n",
        "            if '100K' in col and 'all_years' not in col and 'all_ages' not in col and 'trauma' not in col:\n",
        "                age_df = pd.merge(age_df,df[['state',f'{col}']],on=\"state\",how='outer')\n"
      ],
      "metadata": {
        "id": "rFjB7jtTZwQB"
      },
      "execution_count": null,
      "outputs": []
    },
    {
      "cell_type": "code",
      "source": [
        "result_age_df = pd.DataFrame(columns = ['state','value','year','label','issue'])\n",
        "\n",
        "for col_id, col in enumerate(age_df.columns):\n",
        "    if col_id not in [0,1,2]:\n",
        "        age_df_temp = age_df[['state',col]]\n",
        "        year = col.split('-')[0]\n",
        "        label = col.split('-')[1]\n",
        "        issue = col.split('-')[2]\n",
        "        age_df_temp = pd.concat([age_df_temp,pd.DataFrame([year]*len(age_df_temp)),\n",
        "                                pd.DataFrame([label]*len(age_df_temp)),\n",
        "                                pd.DataFrame([issue]*len(age_df_temp))],axis=1)\n",
        "        age_df_temp.columns = ['state','value','year','label','issue']\n",
        "        result_age_df = pd.concat([result_age_df,age_df_temp],ignore_index=True)"
      ],
      "metadata": {
        "id": "fABuZnU-A0kL"
      },
      "execution_count": null,
      "outputs": []
    },
    {
      "cell_type": "code",
      "source": [
        "age_dict = {}\n",
        "for state in result_age_df['state'].unique():\n",
        "    age_dict[state] = result_age_df[result_age_df['state']==state].to_dict(orient = 'records')\n",
        "\n",
        "result_mean_age_df = pd.DataFrame(columns = ['value','year','label','issue'])\n",
        "mean_age_df = pd.DataFrame(age_df.mean()).transpose()\n",
        "for col_id, col in enumerate(mean_age_df.columns):\n",
        "    if col_id not in [0,1]:\n",
        "        age_df_temp = mean_age_df[[col]]\n",
        "        year = col.split('-')[0]\n",
        "        label = col.split('-')[1]\n",
        "        issue = col.split('-')[2]\n",
        "        age_df_temp = pd.concat([age_df_temp,pd.DataFrame([year]*len(age_df_temp)),\n",
        "                                pd.DataFrame([label]*len(age_df_temp)),\n",
        "                                pd.DataFrame([issue]*len(age_df_temp))],axis=1)\n",
        "        age_df_temp.columns = ['value','year','label','issue']\n",
        "        result_mean_age_df = pd.concat([result_mean_age_df,age_df_temp],ignore_index=True)\n",
        "\n",
        "age_dict['mean'] = result_mean_age_df.to_dict(orient='records')"
      ],
      "metadata": {
        "id": "UPPjFMfZEIPj"
      },
      "execution_count": null,
      "outputs": []
    },
    {
      "cell_type": "code",
      "source": [
        "json_data = json.dumps(age_dict)\n",
        "\n",
        "with open('age_year.json', 'w') as json_file:\n",
        "    json_file.write(json_data)"
      ],
      "metadata": {
        "id": "1iy7XJXZH32o"
      },
      "execution_count": null,
      "outputs": []
    },
    {
      "cell_type": "markdown",
      "source": [
        "state_prevalence"
      ],
      "metadata": {
        "id": "e7z0lOJQeX_U"
      }
    },
    {
      "cell_type": "code",
      "source": [
        "state_df = pd.merge(result_df[['state','depression','suicide','ptsd','psychosis']], extracted_prevalence_df[['state','prevalence_percent']], on ='state',how='outer')"
      ],
      "metadata": {
        "id": "0ZXI5RBeeXNj"
      },
      "execution_count": null,
      "outputs": []
    },
    {
      "cell_type": "code",
      "source": [
        "state_dict = state_df.to_dict(orient='records')\n",
        "json_data = json.dumps(state_dict)\n",
        "\n",
        "with open('state_prevalence.json', 'w') as json_file:\n",
        "    json_file.write(json_data)"
      ],
      "metadata": {
        "id": "T20p8OGnf60h"
      },
      "execution_count": null,
      "outputs": []
    },
    {
      "cell_type": "code",
      "source": [
        "state_df.describe().transpose()[['count','mean','std','min','max']]"
      ],
      "metadata": {
        "id": "9BnEFmFvL248"
      },
      "execution_count": null,
      "outputs": []
    },
    {
      "cell_type": "markdown",
      "source": [
        "heatmap_race"
      ],
      "metadata": {
        "id": "twQexhg8jwI4"
      }
    },
    {
      "cell_type": "code",
      "source": [
        "folder_path = '/content/drive/Shareddrives/DSCI554 project/Data collection/mental_health_data/data1_MHA_dashboard'\n",
        "filenames = os.listdir(folder_path)\n",
        "races_df = pd.read_csv(f'{folder_path}/depression_age_df.csv')\n",
        "races_df = races_df[['state']]\n",
        "for filename in filenames:\n",
        "    if '_race_' in filename:\n",
        "        df = pd.read_csv(os.path.join(folder_path, filename))\n",
        "        for col in df.columns:\n",
        "            if '2023' in col and '100K' in col and (('american' in col) or ('asian' in col) or ('black' in col) or ('hispanic' in col) or ('more_than_one' in col)):\n",
        "                if ('ptsd' in col) or ('depression' in col) or ('suicide' in col) or ('psychosis' in col):\n",
        "                    races_df = pd.merge(races_df,df[['state',f'{col}']],on=\"state\",how='outer')\n",
        "races_df.fillna(races_df.mean(numeric_only=True), inplace=True)"
      ],
      "metadata": {
        "id": "Isw2mzJ-jvce"
      },
      "execution_count": null,
      "outputs": []
    },
    {
      "cell_type": "code",
      "source": [
        "races_name = {\"american_indian_alaska_native\":\"American Indian/Alaska Native\",\n",
        "              \"asian_pacific_islander\":\"Asian/Pacific Islander\",\n",
        "              \"black_african_american\":\"Black/African American\",\n",
        "              \"hispanic_latino\":\"Hispanic/Latino\",\n",
        "              \"more_than_one\":\"Multiracial\"}"
      ],
      "metadata": {
        "id": "NjmKwim_uDYG"
      },
      "execution_count": null,
      "outputs": []
    },
    {
      "cell_type": "code",
      "source": [
        "result_races_df = pd.DataFrame(columns = ['state','value','races','issue'])\n",
        "\n",
        "for col_id, col in enumerate(races_df.columns):\n",
        "    if col_id not in [0]:\n",
        "        races_df_temp = races_df[['state',col]]\n",
        "        races = races_name[col.split('-')[1]]\n",
        "        issue = col.split('-')[2]\n",
        "        races_df_temp = pd.concat([races_df_temp,\n",
        "                                pd.DataFrame([races]*len(races_df_temp)),\n",
        "                                pd.DataFrame([issue]*len(races_df_temp))],axis=1)\n",
        "        races_df_temp.columns =['state','value','races','issue']\n",
        "        result_races_df = pd.concat([result_races_df,races_df_temp],ignore_index=True)"
      ],
      "metadata": {
        "id": "rURMQGNvtWc-"
      },
      "execution_count": null,
      "outputs": []
    },
    {
      "cell_type": "code",
      "source": [
        "races_dict = {}\n",
        "for state in result_races_df['state'].unique():\n",
        "    races_dict[state] = result_races_df[result_races_df['state']==state].to_dict(orient = 'records')\n"
      ],
      "metadata": {
        "id": "UaKDD-B-uvm1"
      },
      "execution_count": null,
      "outputs": []
    },
    {
      "cell_type": "code",
      "source": [
        "\n",
        "result_mean_races_df = pd.DataFrame(columns =['value','races','issue'])\n",
        "mean_races_df = pd.DataFrame(races_df.mean()).transpose()\n",
        "\n",
        "for col_id, col in enumerate(mean_races_df.columns):\n",
        "    if col_id not in []:\n",
        "        races_df_temp = mean_races_df[[col]]\n",
        "        races = races_name[col.split('-')[1]]\n",
        "        issue = col.split('-')[2]\n",
        "        races_df_temp = pd.concat([races_df_temp,\n",
        "                                pd.DataFrame([races]*len(races_df_temp)),\n",
        "                                pd.DataFrame([issue]*len(races_df_temp))],axis=1)\n",
        "        races_df_temp.columns = ['value','races','issue']\n",
        "        result_mean_races_df = pd.concat([result_mean_races_df,races_df_temp],ignore_index=True)\n",
        "\n",
        "races_dict['mean'] = result_mean_races_df.to_dict(orient='records')"
      ],
      "metadata": {
        "id": "-C9A_DEdwoD1"
      },
      "execution_count": null,
      "outputs": []
    },
    {
      "cell_type": "code",
      "source": [
        "json_data = json.dumps(races_dict)\n",
        "\n",
        "with open('races_2023.json', 'w') as json_file:\n",
        "    json_file.write(json_data)"
      ],
      "metadata": {
        "id": "UcPcj4O-x27N"
      },
      "execution_count": null,
      "outputs": []
    }
  ]
}