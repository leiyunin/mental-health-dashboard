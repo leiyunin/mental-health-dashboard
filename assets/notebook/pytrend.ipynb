{
  "nbformat": 4,
  "nbformat_minor": 0,
  "metadata": {
    "colab": {
      "provenance": []
    },
    "kernelspec": {
      "name": "python3",
      "display_name": "Python 3"
    },
    "language_info": {
      "name": "python"
    }
  },
  "cells": [
    {
      "cell_type": "code",
      "execution_count": null,
      "metadata": {
        "colab": {
          "base_uri": "https://localhost:8080/"
        },
        "id": "CsTZQjgOngI5",
        "outputId": "37ce8416-44da-49a9-aa5f-94687684292e"
      },
      "outputs": [
        {
          "output_type": "stream",
          "name": "stdout",
          "text": [
            "Collecting pytrends\n",
            "  Downloading pytrends-4.9.2-py3-none-any.whl (15 kB)\n",
            "Requirement already satisfied: requests>=2.0 in /usr/local/lib/python3.10/dist-packages (from pytrends) (2.31.0)\n",
            "Requirement already satisfied: pandas>=0.25 in /usr/local/lib/python3.10/dist-packages (from pytrends) (1.5.3)\n",
            "Requirement already satisfied: lxml in /usr/local/lib/python3.10/dist-packages (from pytrends) (4.9.3)\n",
            "Requirement already satisfied: python-dateutil>=2.8.1 in /usr/local/lib/python3.10/dist-packages (from pandas>=0.25->pytrends) (2.8.2)\n",
            "Requirement already satisfied: pytz>=2020.1 in /usr/local/lib/python3.10/dist-packages (from pandas>=0.25->pytrends) (2023.3.post1)\n",
            "Requirement already satisfied: numpy>=1.21.0 in /usr/local/lib/python3.10/dist-packages (from pandas>=0.25->pytrends) (1.23.5)\n",
            "Requirement already satisfied: charset-normalizer<4,>=2 in /usr/local/lib/python3.10/dist-packages (from requests>=2.0->pytrends) (3.3.2)\n",
            "Requirement already satisfied: idna<4,>=2.5 in /usr/local/lib/python3.10/dist-packages (from requests>=2.0->pytrends) (3.4)\n",
            "Requirement already satisfied: urllib3<3,>=1.21.1 in /usr/local/lib/python3.10/dist-packages (from requests>=2.0->pytrends) (2.0.7)\n",
            "Requirement already satisfied: certifi>=2017.4.17 in /usr/local/lib/python3.10/dist-packages (from requests>=2.0->pytrends) (2023.7.22)\n",
            "Requirement already satisfied: six>=1.5 in /usr/local/lib/python3.10/dist-packages (from python-dateutil>=2.8.1->pandas>=0.25->pytrends) (1.16.0)\n",
            "Installing collected packages: pytrends\n",
            "Successfully installed pytrends-4.9.2\n"
          ]
        }
      ],
      "source": [
        "!pip install pytrends"
      ]
    },
    {
      "cell_type": "code",
      "source": [
        "import pandas as pd\n",
        "from pytrends.request import TrendReq"
      ],
      "metadata": {
        "id": "jioAQU_wrbSV"
      },
      "execution_count": null,
      "outputs": []
    },
    {
      "cell_type": "code",
      "source": [
        "#可不做 链接google drive\n",
        "from google.colab import drive\n",
        "drive.mount('/content/drive')"
      ],
      "metadata": {
        "colab": {
          "base_uri": "https://localhost:8080/"
        },
        "id": "ZOERvctf6b6F",
        "outputId": "e42ca3fa-d828-46f3-a1c7-d7ad87f4b035"
      },
      "execution_count": null,
      "outputs": [
        {
          "output_type": "stream",
          "name": "stdout",
          "text": [
            "Mounted at /content/drive\n"
          ]
        }
      ]
    },
    {
      "cell_type": "code",
      "source": [
        "!pip install pandas==1.5.3"
      ],
      "metadata": {
        "colab": {
          "base_uri": "https://localhost:8080/",
          "height": 461
        },
        "id": "JYqjgAi6t0Ei",
        "outputId": "1c60bc28-b63b-4c3f-d0f7-f43e641200b5"
      },
      "execution_count": null,
      "outputs": [
        {
          "output_type": "stream",
          "name": "stdout",
          "text": [
            "Collecting pandas==1.5.3\n",
            "  Downloading pandas-1.5.3-cp310-cp310-manylinux_2_17_x86_64.manylinux2014_x86_64.whl (12.1 MB)\n",
            "\u001b[2K     \u001b[90m━━━━━━━━━━━━━━━━━━━━━━━━━━━━━━━━━━━━━━━━\u001b[0m \u001b[32m12.1/12.1 MB\u001b[0m \u001b[31m41.4 MB/s\u001b[0m eta \u001b[36m0:00:00\u001b[0m\n",
            "\u001b[?25hRequirement already satisfied: python-dateutil>=2.8.1 in /usr/local/lib/python3.10/dist-packages (from pandas==1.5.3) (2.8.2)\n",
            "Requirement already satisfied: pytz>=2020.1 in /usr/local/lib/python3.10/dist-packages (from pandas==1.5.3) (2023.3.post1)\n",
            "Requirement already satisfied: numpy>=1.21.0 in /usr/local/lib/python3.10/dist-packages (from pandas==1.5.3) (1.23.5)\n",
            "Requirement already satisfied: six>=1.5 in /usr/local/lib/python3.10/dist-packages (from python-dateutil>=2.8.1->pandas==1.5.3) (1.16.0)\n",
            "Installing collected packages: pandas\n",
            "  Attempting uninstall: pandas\n",
            "    Found existing installation: pandas 2.1.2\n",
            "    Uninstalling pandas-2.1.2:\n",
            "      Successfully uninstalled pandas-2.1.2\n",
            "\u001b[31mERROR: pip's dependency resolver does not currently take into account all the packages that are installed. This behaviour is the source of the following dependency conflicts.\n",
            "lida 0.0.10 requires fastapi, which is not installed.\n",
            "lida 0.0.10 requires kaleido, which is not installed.\n",
            "lida 0.0.10 requires python-multipart, which is not installed.\n",
            "lida 0.0.10 requires uvicorn, which is not installed.\u001b[0m\u001b[31m\n",
            "\u001b[0mSuccessfully installed pandas-1.5.3\n"
          ]
        },
        {
          "output_type": "display_data",
          "data": {
            "application/vnd.colab-display-data+json": {
              "pip_warning": {
                "packages": [
                  "pandas"
                ]
              }
            }
          },
          "metadata": {}
        }
      ]
    },
    {
      "cell_type": "markdown",
      "source": [
        "使用pytrend抓取各个州的谷歌搜索兴趣"
      ],
      "metadata": {
        "id": "8KrYVaoCes9i"
      }
    },
    {
      "cell_type": "code",
      "source": [
        "from pytrends.request import TrendReq\n",
        "import pandas as pd\n",
        "import random\n",
        "import time\n",
        "import os\n",
        "\n",
        "# 美国50个州的缩写\n",
        "us_states = [\"AL\", \"AK\", \"AZ\", \"AR\", \"CA\", \"CO\", \"CT\", \"DE\", \"FL\", \"GA\",\n",
        "             \"HI\", \"ID\", \"IL\", \"IN\", \"IA\", \"KS\", \"KY\", \"LA\", \"ME\", \"MD\",\n",
        "             \"MA\", \"MI\", \"MN\", \"MS\", \"MO\", \"MT\", \"NE\", \"NV\", \"NH\", \"NJ\",\n",
        "             \"NM\", \"NY\", \"NC\", \"ND\", \"OH\", \"OK\", \"OR\", \"PA\", \"RI\", \"SC\",\n",
        "             \"SD\", \"TN\", \"TX\", \"UT\", \"VT\", \"VA\", \"WA\", \"WV\", \"WI\", \"WY\"]\n",
        "\n",
        "def download_interest_data(region, keyword, start_date, end_date):\n",
        "    # 创建 pytrends 对象\n",
        "    pytrends = TrendReq(hl='en-US', tz=360)\n",
        "\n",
        "    # 设置搜索关键字和时间范围\n",
        "    kw_list = [keyword]\n",
        "    timeframe = start_date + ' ' + end_date\n",
        "\n",
        "    try:\n",
        "        # 获取搜索兴趣数据\n",
        "        pytrends.build_payload(kw_list, geo=region, timeframe=timeframe)\n",
        "        interest_data = pytrends.interest_over_time()\n",
        "\n",
        "        # 将日期作为索引\n",
        "        interest_data.index = pd.to_datetime(interest_data.index)\n",
        "\n",
        "        # 创建关键词目录\n",
        "        keyword_dir = os.path.join(keyword)\n",
        "        if not os.path.exists(keyword_dir):\n",
        "            os.makedirs(keyword_dir)\n",
        "\n",
        "        # 生成文件名\n",
        "        file_name = f\"{region}_{keyword}.csv\"\n",
        "        file_path = os.path.join(keyword_dir, file_name)\n",
        "\n",
        "        # 保存为 CSV 文件\n",
        "        interest_data.to_csv(file_path)\n",
        "\n",
        "        state_abbreviation = region.replace(\"US-\", \"\")  # 去除 \"US-\" 前缀\n",
        "        us_states.remove(state_abbreviation)\n",
        "        print(\"finish downloading and delete\", region)\n",
        "\n",
        "    except Exception as e:\n",
        "        if \"429\" in str(e):\n",
        "            print(f\"Got 429 error. Sleeping for 1 minute...\")\n",
        "            time.sleep(60)\n",
        "            print(f\"Retrying {region}...\")\n",
        "            download_interest_data(region, keyword, start_date, end_date)\n",
        "        else:\n",
        "            print(f\"Error downloading data for {region}: {str(e)}\")\n"
      ],
      "metadata": {
        "id": "6VQRh8iR0feu"
      },
      "execution_count": null,
      "outputs": []
    },
    {
      "cell_type": "code",
      "source": [
        "# 要下载的关键词和时间范围\n",
        "keywords = [\"mental health\"]\n",
        "start_date = \"2019-01-01\"\n",
        "end_date = \"2023-10-31\"\n",
        "\n",
        "# 逐个关键词生成搜索兴趣数据\n",
        "for keyword in keywords:\n",
        "    while us_states:\n",
        "        state = random.choice(us_states)\n",
        "        download_interest_data(\"US-\" + state, keyword, start_date, end_date)\n",
        "        print(\"Finish\", state, keyword)\n",
        "        sleeptime = random.randint(5, 10)\n",
        "        print(\"Sleep for\", sleeptime, \"seconds\")\n",
        "        time.sleep(sleeptime)\n",
        "\n",
        "print(\"All data downloaded.\")"
      ],
      "metadata": {
        "colab": {
          "base_uri": "https://localhost:8080/"
        },
        "id": "Jj6z_1FjSOiY",
        "outputId": "6dd7d4cc-5877-4970-d7ab-2842991b8237"
      },
      "execution_count": null,
      "outputs": [
        {
          "output_type": "stream",
          "name": "stdout",
          "text": [
            "finish downloading and delete US-CO\n",
            "Finish CO mental health\n",
            "Sleep for 6 seconds\n",
            "finish downloading and delete US-MS\n",
            "Finish MS mental health\n",
            "Sleep for 5 seconds\n",
            "finish downloading and delete US-AR\n",
            "Finish AR mental health\n",
            "Sleep for 9 seconds\n",
            "finish downloading and delete US-MT\n",
            "Finish MT mental health\n",
            "Sleep for 10 seconds\n",
            "finish downloading and delete US-MO\n",
            "Finish MO mental health\n",
            "Sleep for 6 seconds\n",
            "finish downloading and delete US-VA\n",
            "Finish VA mental health\n",
            "Sleep for 6 seconds\n",
            "finish downloading and delete US-NV\n",
            "Finish NV mental health\n",
            "Sleep for 6 seconds\n",
            "finish downloading and delete US-HI\n",
            "Finish HI mental health\n",
            "Sleep for 5 seconds\n",
            "finish downloading and delete US-IN\n",
            "Finish IN mental health\n",
            "Sleep for 8 seconds\n",
            "finish downloading and delete US-FL\n",
            "Finish FL mental health\n",
            "Sleep for 6 seconds\n",
            "Got 429 error. Sleeping for 1 minute...\n",
            "Retrying US-OH...\n",
            "finish downloading and delete US-OH\n",
            "Finish OH mental health\n",
            "Sleep for 5 seconds\n",
            "finish downloading and delete US-PA\n",
            "Finish PA mental health\n",
            "Sleep for 8 seconds\n",
            "finish downloading and delete US-NY\n",
            "Finish NY mental health\n",
            "Sleep for 5 seconds\n",
            "finish downloading and delete US-WI\n",
            "Finish WI mental health\n",
            "Sleep for 10 seconds\n",
            "finish downloading and delete US-MD\n",
            "Finish MD mental health\n",
            "Sleep for 10 seconds\n",
            "finish downloading and delete US-IL\n",
            "Finish IL mental health\n",
            "Sleep for 8 seconds\n",
            "finish downloading and delete US-KY\n",
            "Finish KY mental health\n",
            "Sleep for 6 seconds\n",
            "finish downloading and delete US-AL\n",
            "Finish AL mental health\n",
            "Sleep for 5 seconds\n",
            "finish downloading and delete US-ME\n",
            "Finish ME mental health\n",
            "Sleep for 10 seconds\n",
            "finish downloading and delete US-NJ\n",
            "Finish NJ mental health\n",
            "Sleep for 6 seconds\n",
            "finish downloading and delete US-DE\n",
            "Finish DE mental health\n",
            "Sleep for 7 seconds\n",
            "finish downloading and delete US-AK\n",
            "Finish AK mental health\n",
            "Sleep for 9 seconds\n",
            "finish downloading and delete US-TN\n",
            "Finish TN mental health\n",
            "Sleep for 5 seconds\n",
            "finish downloading and delete US-WA\n",
            "Finish WA mental health\n",
            "Sleep for 10 seconds\n",
            "finish downloading and delete US-CA\n",
            "Finish CA mental health\n",
            "Sleep for 10 seconds\n",
            "finish downloading and delete US-NM\n",
            "Finish NM mental health\n",
            "Sleep for 9 seconds\n",
            "finish downloading and delete US-SC\n",
            "Finish SC mental health\n",
            "Sleep for 6 seconds\n",
            "finish downloading and delete US-IA\n",
            "Finish IA mental health\n",
            "Sleep for 8 seconds\n",
            "finish downloading and delete US-WY\n",
            "Finish WY mental health\n",
            "Sleep for 7 seconds\n",
            "finish downloading and delete US-LA\n",
            "Finish LA mental health\n",
            "Sleep for 5 seconds\n",
            "finish downloading and delete US-VT\n",
            "Finish VT mental health\n",
            "Sleep for 5 seconds\n",
            "finish downloading and delete US-NH\n",
            "Finish NH mental health\n",
            "Sleep for 10 seconds\n",
            "finish downloading and delete US-UT\n",
            "Finish UT mental health\n",
            "Sleep for 9 seconds\n",
            "finish downloading and delete US-NE\n",
            "Finish NE mental health\n",
            "Sleep for 6 seconds\n",
            "finish downloading and delete US-AZ\n",
            "Finish AZ mental health\n",
            "Sleep for 9 seconds\n",
            "finish downloading and delete US-RI\n",
            "Finish RI mental health\n",
            "Sleep for 8 seconds\n",
            "finish downloading and delete US-ND\n",
            "Finish ND mental health\n",
            "Sleep for 10 seconds\n",
            "finish downloading and delete US-SD\n",
            "Finish SD mental health\n",
            "Sleep for 8 seconds\n",
            "finish downloading and delete US-WV\n",
            "Finish WV mental health\n",
            "Sleep for 6 seconds\n",
            "finish downloading and delete US-CT\n",
            "Finish CT mental health\n",
            "Sleep for 5 seconds\n",
            "finish downloading and delete US-ID\n",
            "Finish ID mental health\n",
            "Sleep for 5 seconds\n",
            "finish downloading and delete US-TX\n",
            "Finish TX mental health\n",
            "Sleep for 6 seconds\n",
            "finish downloading and delete US-GA\n",
            "Finish GA mental health\n",
            "Sleep for 5 seconds\n",
            "finish downloading and delete US-OR\n",
            "Finish OR mental health\n",
            "Sleep for 9 seconds\n",
            "finish downloading and delete US-KS\n",
            "Finish KS mental health\n",
            "Sleep for 10 seconds\n",
            "finish downloading and delete US-NC\n",
            "Finish NC mental health\n",
            "Sleep for 9 seconds\n",
            "finish downloading and delete US-MI\n",
            "Finish MI mental health\n",
            "Sleep for 10 seconds\n",
            "finish downloading and delete US-MA\n",
            "Finish MA mental health\n",
            "Sleep for 9 seconds\n",
            "finish downloading and delete US-OK\n",
            "Finish OK mental health\n",
            "Sleep for 10 seconds\n",
            "finish downloading and delete US-MN\n",
            "Finish MN mental health\n",
            "Sleep for 7 seconds\n",
            "All data downloaded.\n"
          ]
        }
      ]
    },
    {
      "cell_type": "code",
      "source": [
        "!ls mental\\ health/\n"
      ],
      "metadata": {
        "colab": {
          "base_uri": "https://localhost:8080/"
        },
        "id": "IW4VoFQstULK",
        "outputId": "e872b79e-ccf8-4712-e0a6-0006c457eb0e"
      },
      "execution_count": null,
      "outputs": [
        {
          "output_type": "stream",
          "name": "stdout",
          "text": [
            "'US-AK_mental health.csv'  'US-LA_mental health.csv'  'US-OH_mental health.csv'\n",
            "'US-AL_mental health.csv'  'US-MA_mental health.csv'  'US-OK_mental health.csv'\n",
            "'US-AR_mental health.csv'  'US-MD_mental health.csv'  'US-OR_mental health.csv'\n",
            "'US-AZ_mental health.csv'  'US-ME_mental health.csv'  'US-PA_mental health.csv'\n",
            "'US-CA_mental health.csv'  'US-MI_mental health.csv'  'US-RI_mental health.csv'\n",
            "'US-CO_mental health.csv'  'US-MN_mental health.csv'  'US-SC_mental health.csv'\n",
            "'US-CT_mental health.csv'  'US-MO_mental health.csv'  'US-SD_mental health.csv'\n",
            "'US-DE_mental health.csv'  'US-MS_mental health.csv'  'US-TN_mental health.csv'\n",
            "'US-FL_mental health.csv'  'US-MT_mental health.csv'  'US-TX_mental health.csv'\n",
            "'US-GA_mental health.csv'  'US-NC_mental health.csv'  'US-UT_mental health.csv'\n",
            "'US-HI_mental health.csv'  'US-ND_mental health.csv'  'US-VA_mental health.csv'\n",
            "'US-IA_mental health.csv'  'US-NE_mental health.csv'  'US-VT_mental health.csv'\n",
            "'US-ID_mental health.csv'  'US-NH_mental health.csv'  'US-WA_mental health.csv'\n",
            "'US-IL_mental health.csv'  'US-NJ_mental health.csv'  'US-WI_mental health.csv'\n",
            "'US-IN_mental health.csv'  'US-NM_mental health.csv'  'US-WV_mental health.csv'\n",
            "'US-KS_mental health.csv'  'US-NV_mental health.csv'  'US-WY_mental health.csv'\n",
            "'US-KY_mental health.csv'  'US-NY_mental health.csv'\n"
          ]
        }
      ]
    },
    {
      "cell_type": "markdown",
      "source": [
        "下载各州数据"
      ],
      "metadata": {
        "id": "9SnXoYfHsO96"
      }
    },
    {
      "cell_type": "code",
      "source": [
        "import zipfile\n",
        "import os\n",
        "\n",
        "# 指定要压缩的文件夹路径\n",
        "folder_to_compress = \"mental health/\"  # 这里请替换为您的文件夹路径\n",
        "\n",
        "# 指定要保存压缩文件的名称\n",
        "zip_file_name = \"mental_data.zip\"\n",
        "\n",
        "# 使用zipfile库创建一个zip文件\n",
        "with zipfile.ZipFile(zip_file_name, 'w', zipfile.ZIP_DEFLATED) as zipf:\n",
        "    # 遍历文件夹中的所有文件并将它们添加到zip文件中\n",
        "    for root, dirs, files in os.walk(folder_to_compress):\n",
        "        for file in files:\n",
        "            file_path = os.path.join(root, file)\n",
        "            arcname = os.path.relpath(file_path, folder_to_compress)\n",
        "            zipf.write(file_path, arcname)\n",
        "\n",
        "# 下载生成的zip文件\n",
        "from google.colab import files\n",
        "files.download(zip_file_name)"
      ],
      "metadata": {
        "colab": {
          "base_uri": "https://localhost:8080/",
          "height": 34
        },
        "id": "4qHi21m80fF_",
        "outputId": "37808074-4080-4903-ecbe-b43a12fb070b"
      },
      "execution_count": null,
      "outputs": [
        {
          "output_type": "display_data",
          "data": {
            "text/plain": [
              "<IPython.core.display.Javascript object>"
            ],
            "application/javascript": [
              "\n",
              "    async function download(id, filename, size) {\n",
              "      if (!google.colab.kernel.accessAllowed) {\n",
              "        return;\n",
              "      }\n",
              "      const div = document.createElement('div');\n",
              "      const label = document.createElement('label');\n",
              "      label.textContent = `Downloading \"${filename}\": `;\n",
              "      div.appendChild(label);\n",
              "      const progress = document.createElement('progress');\n",
              "      progress.max = size;\n",
              "      div.appendChild(progress);\n",
              "      document.body.appendChild(div);\n",
              "\n",
              "      const buffers = [];\n",
              "      let downloaded = 0;\n",
              "\n",
              "      const channel = await google.colab.kernel.comms.open(id);\n",
              "      // Send a message to notify the kernel that we're ready.\n",
              "      channel.send({})\n",
              "\n",
              "      for await (const message of channel.messages) {\n",
              "        // Send a message to notify the kernel that we're ready.\n",
              "        channel.send({})\n",
              "        if (message.buffers) {\n",
              "          for (const buffer of message.buffers) {\n",
              "            buffers.push(buffer);\n",
              "            downloaded += buffer.byteLength;\n",
              "            progress.value = downloaded;\n",
              "          }\n",
              "        }\n",
              "      }\n",
              "      const blob = new Blob(buffers, {type: 'application/binary'});\n",
              "      const a = document.createElement('a');\n",
              "      a.href = window.URL.createObjectURL(blob);\n",
              "      a.download = filename;\n",
              "      div.appendChild(a);\n",
              "      a.click();\n",
              "      div.remove();\n",
              "    }\n",
              "  "
            ]
          },
          "metadata": {}
        },
        {
          "output_type": "display_data",
          "data": {
            "text/plain": [
              "<IPython.core.display.Javascript object>"
            ],
            "application/javascript": [
              "download(\"download_98f435cf-b2c9-4e63-a7ed-c79d0e908ef7\", \"mental_data.zip\", 51799)"
            ]
          },
          "metadata": {}
        }
      ]
    },
    {
      "cell_type": "markdown",
      "source": [
        "合并50个州的搜索兴趣为一个csv"
      ],
      "metadata": {
        "id": "w9qVUIZgsbdS"
      }
    },
    {
      "cell_type": "code",
      "source": [
        "import os\n",
        "import pandas as pd\n",
        "\n",
        "# 指定包含所有各州数据的文件夹路径\n",
        "folder_path = \"mental health/\"  # 请替换为您的文件夹路径\n",
        "\n",
        "# 获取文件夹中的所有文件名\n",
        "file_names = os.listdir('mental health/')\n",
        "\n",
        "# 创建一个空的DataFrame用于存储合并后的数据\n",
        "merged_data = pd.DataFrame()\n",
        "\n",
        "# 遍历每个文件并合并数据\n",
        "for file_name in file_names:\n",
        "    # 从文件名中提取州简称，假设文件名的格式是\"州简称_depression.csv\"\n",
        "    state_code = file_name.split(\"_\")[0]\n",
        "\n",
        "    # 读取州的数据文件并添加到合并后的DataFrame中，同时删除isPartial列\n",
        "    state_data = pd.read_csv(os.path.join(folder_path, file_name))\n",
        "\n",
        "    # 检查是否存在'depression'列，如果存在，则添加到合并后的DataFrame中\n",
        "    if 'mental health' in state_data.columns:\n",
        "        merged_data[state_code] = state_data['mental health']\n",
        "    else:\n",
        "      print (file_name)\n",
        "\n",
        "# 使用日期作为索引\n",
        "merged_data.index = pd.to_datetime(state_data['date'])\n",
        "\n",
        "# 保存合并后的数据为CSV文件\n",
        "merged_data.to_csv('state_mental.csv')\n"
      ],
      "metadata": {
        "colab": {
          "base_uri": "https://localhost:8080/"
        },
        "id": "BT1qvyMH4h51",
        "outputId": "47526e55-0868-4315-9821-216123d095f0"
      },
      "execution_count": null,
      "outputs": [
        {
          "output_type": "stream",
          "name": "stdout",
          "text": [
            "US-OH_mental health.csv\n"
          ]
        }
      ]
    },
    {
      "cell_type": "code",
      "source": [
        "print(merged_data.head())\n"
      ],
      "metadata": {
        "colab": {
          "base_uri": "https://localhost:8080/"
        },
        "id": "f4v2crsN38tN",
        "outputId": "e3f218fd-15d3-4689-ad69-d45070cf840a"
      },
      "execution_count": null,
      "outputs": [
        {
          "output_type": "stream",
          "name": "stdout",
          "text": [
            "            US-AR  US-IA  US-LA  US-WY  US-AZ  US-FL  US-MA  US-WA  US-TN  \\\n",
            "date                                                                        \n",
            "2019-01-06     52     66      0     31      0      0     52     63     79   \n",
            "2019-01-13     58     56      0     27     46      0     54     61     80   \n",
            "2019-01-20     46     49      0     19      0      0     55     53     77   \n",
            "2019-01-27     57     50      0     70      0      0     62     61     84   \n",
            "2019-02-03     67     60      0     28      0      0     58     52     71   \n",
            "\n",
            "            US-NH  ...  US-MT  US-WV  US-ID  US-KY  US-PA  US-IL  US-TX  \\\n",
            "date               ...                                                    \n",
            "2019-01-06     57  ...      0     34     58     50      0      0      0   \n",
            "2019-01-13     56  ...      0     43     48     49      0      0      0   \n",
            "2019-01-20     54  ...      0     38     59     48      0      0      0   \n",
            "2019-01-27     68  ...      0     14     31     52      0      0      0   \n",
            "2019-02-03     69  ...      0     54     56     52      0      0      0   \n",
            "\n",
            "            US-NY  US-WI  US-HI  \n",
            "date                             \n",
            "2019-01-06     60      0      0  \n",
            "2019-01-13     63      0      0  \n",
            "2019-01-20     56      0      0  \n",
            "2019-01-27     64      0      0  \n",
            "2019-02-03     63      0      0  \n",
            "\n",
            "[5 rows x 49 columns]\n"
          ]
        }
      ]
    },
    {
      "cell_type": "code",
      "source": [
        "files.download('state_mental.csv')"
      ],
      "metadata": {
        "colab": {
          "base_uri": "https://localhost:8080/",
          "height": 34
        },
        "id": "ivRKUKov4MzU",
        "outputId": "0bdae742-2128-40ed-9f20-e03b29f50947"
      },
      "execution_count": null,
      "outputs": [
        {
          "output_type": "display_data",
          "data": {
            "text/plain": [
              "<IPython.core.display.Javascript object>"
            ],
            "application/javascript": [
              "\n",
              "    async function download(id, filename, size) {\n",
              "      if (!google.colab.kernel.accessAllowed) {\n",
              "        return;\n",
              "      }\n",
              "      const div = document.createElement('div');\n",
              "      const label = document.createElement('label');\n",
              "      label.textContent = `Downloading \"${filename}\": `;\n",
              "      div.appendChild(label);\n",
              "      const progress = document.createElement('progress');\n",
              "      progress.max = size;\n",
              "      div.appendChild(progress);\n",
              "      document.body.appendChild(div);\n",
              "\n",
              "      const buffers = [];\n",
              "      let downloaded = 0;\n",
              "\n",
              "      const channel = await google.colab.kernel.comms.open(id);\n",
              "      // Send a message to notify the kernel that we're ready.\n",
              "      channel.send({})\n",
              "\n",
              "      for await (const message of channel.messages) {\n",
              "        // Send a message to notify the kernel that we're ready.\n",
              "        channel.send({})\n",
              "        if (message.buffers) {\n",
              "          for (const buffer of message.buffers) {\n",
              "            buffers.push(buffer);\n",
              "            downloaded += buffer.byteLength;\n",
              "            progress.value = downloaded;\n",
              "          }\n",
              "        }\n",
              "      }\n",
              "      const blob = new Blob(buffers, {type: 'application/binary'});\n",
              "      const a = document.createElement('a');\n",
              "      a.href = window.URL.createObjectURL(blob);\n",
              "      a.download = filename;\n",
              "      div.appendChild(a);\n",
              "      a.click();\n",
              "      div.remove();\n",
              "    }\n",
              "  "
            ]
          },
          "metadata": {}
        },
        {
          "output_type": "display_data",
          "data": {
            "text/plain": [
              "<IPython.core.display.Javascript object>"
            ],
            "application/javascript": [
              "download(\"download_1fbe4b53-6f1f-4576-93a7-b220f0690b6b\", \"state_mental.csv\", 33390)"
            ]
          },
          "metadata": {}
        }
      ]
    }
  ]
}