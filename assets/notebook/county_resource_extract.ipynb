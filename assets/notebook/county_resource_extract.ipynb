{
 "cells": [
  {
   "cell_type": "code",
   "execution_count": null,
   "id": "4ab3041d",
   "metadata": {},
   "outputs": [],
   "source": [
    "import pandas as pd\n",
    "import csv\n",
    "import re\n",
    "\n",
    "df = pd.read_excel('WY_raw.xlsx') # replace state name\n",
    "site_name_data = []\n",
    "\n",
    "in_site_name_block = False\n",
    "current_site_name_block = []\n",
    "\n",
    "for index, row in df.iterrows():\n",
    "    # check if the row contains \"Site Name\"\n",
    "    if \"Site Name\" in str(row):\n",
    "        in_site_name_block = True\n",
    "        if current_site_name_block:\n",
    "            site_name_data.append(current_site_name_block)\n",
    "        current_site_name_block = []\n",
    "    elif in_site_name_block:\n",
    "        current_site_name_block.append(str(row))\n",
    "\n",
    "if current_site_name_block:\n",
    "    site_name_data.append(current_site_name_block)\n",
    "\n",
    "res = \"\"\n",
    "\n",
    "for sublist in site_name_data:\n",
    "    for item in sublist:\n",
    "        res += item\n",
    "        \n",
    "data_text =res\n",
    "# use regex to find usable data\n",
    "m1 = re.findall(r'Unnamed: 1\\s+([^:]+)\\n', data_text)\n",
    "m2 = re.findall(r'Unnamed: 2\\s+([^:]+)\\n', data_text)\n",
    "m3 = re.findall(r'Unnamed: 3\\s+([^:]+)\\n', data_text)\n",
    "m4 = re.findall(r'Unnamed: 4\\s+([^:]+)\\n', data_text)\n",
    "m5 = re.findall(r'Unnamed: 5\\s+([^:]+)\\n', data_text)\n",
    "m6 = re.findall(r'Unnamed: 6\\s+([^:]+)\\n', data_text)\n",
    "\n",
    "data = list(zip(m1,m2,m3,m4,m5,m6))\n",
    "for item in data[:]:  \n",
    "    if item[3] != 'WY' or '7' in item[0] or 'Component' in item[0] or 'NaN' in item[5] or '.' in item[5]:\n",
    "        data.remove(item)\n",
    "csv_file_path = 'filtered_WY.csv'\n",
    "with open(csv_file_path, 'w', newline='') as csv_file:\n",
    "    csv_writer = csv.writer(csv_file)\n",
    "    \n",
    "    # Write the header row if needed\n",
    "    csv_writer.writerow(['Site Name', 'Site Address', 'Site City','Site State','Site Zip Code','County'])\n",
    "    \n",
    "    # Write the data from the list of lists\n",
    "    csv_writer.writerows(data)"
   ]
  }
 ],
 "metadata": {
  "kernelspec": {
   "display_name": "Python 3 (ipykernel)",
   "language": "python",
   "name": "python3"
  },
  "language_info": {
   "codemirror_mode": {
    "name": "ipython",
    "version": 3
   },
   "file_extension": ".py",
   "mimetype": "text/x-python",
   "name": "python",
   "nbconvert_exporter": "python",
   "pygments_lexer": "ipython3",
   "version": "3.9.12"
  }
 },
 "nbformat": 4,
 "nbformat_minor": 5
}
