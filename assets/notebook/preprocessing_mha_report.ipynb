{
 "cells": [
  {
   "cell_type": "markdown",
   "metadata": {},
   "source": [
    "Fetch Data From MHA Report"
   ]
  },
  {
   "cell_type": "code",
   "execution_count": null,
   "metadata": {},
   "outputs": [],
   "source": [
    "import pdfplumber\n",
    "import pandas as pd"
   ]
  },
  {
   "cell_type": "markdown",
   "metadata": {},
   "source": [
    "2022 Report"
   ]
  },
  {
   "cell_type": "code",
   "execution_count": null,
   "metadata": {},
   "outputs": [],
   "source": [
    "with pdfplumber.open('2022 State of Mental Health in America.pdf') as pdf: #modify\n",
    "    for i in [26]: #modify\n",
    "        merged_table = pd.DataFrame()\n",
    "        filename = str(pdf.pages[i].page_number)+'_'+pdf.pages[i].extract_text().split('\\n')[0].lower().replace(' ','_')\n",
    "        tables = pdf.pages[i].extract_tables()\n",
    "        if tables:\n",
    "            if len(tables) == 2:\n",
    "                    df1 = pd.DataFrame(tables[0])\n",
    "                    df1.drop([0], axis=0, inplace=True)\n",
    "                    df2 = pd.DataFrame(tables[1])\n",
    "                    df2.drop([0], axis=0, inplace=True)\n",
    "                    merged_table = pd.concat([df1,df2], axis=0,ignore_index=True)\n",
    "                    merged_table = merged_table.iloc[:,[1,4,7,10]]\n",
    "                    merged_table.columns = ['rank','state','percent','number']\n",
    "            elif len(tables) == 1:\n",
    "                    df1 = pd.DataFrame(tables[0])\n",
    "                    df1.drop([0], axis=0, inplace=True)\n",
    "                    merged_table = df1\n",
    "                    merged_table = merged_table.iloc[:,[1,4,7,10]]\n",
    "                    merged_table.columns = ['rank','state','percent','number']\n",
    "            elif len(tables) == 3:\n",
    "                    df1 = pd.DataFrame(tables[1])\n",
    "                    df1.drop([0], axis=0, inplace=True)\n",
    "                    df2 = pd.DataFrame(tables[2])\n",
    "                    df2.drop([0], axis=0, inplace=True)\n",
    "                    merged_table = pd.concat([df1,df2], axis=0,ignore_index=True)\n",
    "                    merged_table = merged_table.iloc[:,[1,4,7,10]]\n",
    "                    merged_table.columns = ['rank','state','percent','number']\n",
    "        merged_table.to_csv(f'./2022_report/{filename}.csv') #modify\n"
   ]
  },
  {
   "cell_type": "code",
   "execution_count": null,
   "metadata": {},
   "outputs": [],
   "source": [
    "with pdfplumber.open('2022 State of Mental Health in America.pdf') as pdf: #modify\n",
    "    merged_table = None\n",
    "    filename = str(pdf.pages[25].page_number)+'_'+pdf.pages[25].extract_text().split('\\n')[0].lower().replace(' ','_') #modify\n",
    "    tables = pdf.pages[25].extract_tables() #modify\n",
    "    print(len(tables)) #depend\n",
    "    df1 = pd.DataFrame(tables[0])\n",
    "    df1.drop([0], axis=0, inplace=True)\n",
    "    df1 = df1.iloc[:,[1,4,7,10]]\n",
    "    df1.columns = ['rank','state','percent','number']\n",
    "    df2 = pd.DataFrame(tables[1])\n",
    "    df2.drop([0], axis=0, inplace=True)\n",
    "    df2 = df2.iloc[:,[1,4,8,11]]\n",
    "    df2.columns = ['rank','state','percent','number']\n",
    "    merged_table = pd.concat([df1,df2], axis=0,ignore_index=True)\n",
    "    merged_table.to_csv(f'./2022_report/26_Youth_With_Substance_Use_Disorder_in_the_Past_Year.csv') #modify"
   ]
  },
  {
   "cell_type": "markdown",
   "metadata": {},
   "source": [
    "2021 Report"
   ]
  },
  {
   "cell_type": "code",
   "execution_count": null,
   "metadata": {},
   "outputs": [],
   "source": [
    "with pdfplumber.open('2021 State of Mental Health in America_0.pdf') as pdf: #modify\n",
    "    for i in range(17, 32): #modify\n",
    "        merged_table = pd.DataFrame()\n",
    "        filename = str(pdf.pages[i].page_number)+'_'+pdf.pages[i].extract_text().split('\\n')[0].lower().replace(' ','_')\n",
    "        tables = pdf.pages[i].extract_tables()\n",
    "        if tables:\n",
    "            if len(tables) == 2:\n",
    "                    df1 = pd.DataFrame(tables[0])\n",
    "                    df1.drop([0], axis=0, inplace=True)\n",
    "                    df2 = pd.DataFrame(tables[1])\n",
    "                    df2.drop([0], axis=0, inplace=True)\n",
    "                    merged_table = pd.concat([df1,df2], axis=0,ignore_index=True)\n",
    "                    merged_table = merged_table.iloc[:,[1,4,7,10]]\n",
    "                    merged_table.columns = ['rank','state','percent','number']\n",
    "            elif len(tables) == 1:\n",
    "                    df1 = pd.DataFrame(tables[0])\n",
    "                    df1.drop([0], axis=0, inplace=True)\n",
    "                    merged_table = df1\n",
    "                    merged_table = merged_table.iloc[:,[1,4,7,10]]\n",
    "                    merged_table.columns = ['rank','state','percent','number']\n",
    "            elif len(tables) == 3:\n",
    "                    df1 = pd.DataFrame(tables[1])\n",
    "                    df1.drop([0], axis=0, inplace=True)\n",
    "                    df2 = pd.DataFrame(tables[2])\n",
    "                    df2.drop([0], axis=0, inplace=True)\n",
    "                    merged_table = pd.concat([df1,df2], axis=0,ignore_index=True)\n",
    "                    merged_table = merged_table.iloc[:,[1,4,7,10]]\n",
    "                    merged_table.columns = ['rank','state','percent','number']\n",
    "        merged_table.to_csv(f'./2021_report/{filename}.csv') #modify\n"
   ]
  },
  {
   "cell_type": "code",
   "execution_count": null,
   "metadata": {},
   "outputs": [],
   "source": [
    "with pdfplumber.open('2021 State of Mental Health in America_0.pdf') as pdf: #modify\n",
    "    merged_table = None\n",
    "    filename = str(pdf.pages[30].page_number)+'_'+pdf.pages[30].extract_text().split('\\n')[0].lower().replace(' ','_') #modify\n",
    "    tables = pdf.pages[30].extract_tables() #modify\n",
    "    print(len(tables)) #depend\n",
    "    df1 = pd.DataFrame(tables[0])\n",
    "    df1.drop([0], axis=0, inplace=True)\n",
    "    merged_table = df1\n",
    "    print(merged_table)\n",
    "    merged_table = merged_table.iloc[:,[1,4,7,10]]\n",
    "    merged_table.columns = ['rank','state','percent','number']\n",
    "   \n",
    "    merged_table.to_csv(f'./2021_report/31_Students_Identified_with_Emotional_Disturbance.csv') #modify"
   ]
  },
  {
   "cell_type": "markdown",
   "metadata": {},
   "source": [
    "2020 Report"
   ]
  },
  {
   "cell_type": "code",
   "execution_count": null,
   "metadata": {},
   "outputs": [],
   "source": [
    "with pdfplumber.open('State of Mental Health in America - 2020_0.pdf') as pdf: #modify\n",
    "    for i in range(27, 41): #modify\n",
    "        merged_table = pd.DataFrame()\n",
    "        filename = str(pdf.pages[i].page_number)+'_'+pdf.pages[i].extract_text().split('\\n')[0].lower().replace(' ','_')\n",
    "        tables = pdf.pages[i].extract_tables()\n",
    "        if tables:\n",
    "            if len(tables) == 2:\n",
    "                    df1 = pd.DataFrame(tables[0])\n",
    "                    df1.drop([0], axis=0, inplace=True)\n",
    "                    df2 = pd.DataFrame(tables[1])\n",
    "                    df2.drop([0], axis=0, inplace=True)\n",
    "                    merged_table = pd.concat([df1,df2], axis=0,ignore_index=True)\n",
    "                    merged_table = merged_table.iloc[:,[1,4,7,10]]\n",
    "                    merged_table.columns = ['rank','state','percent','number']\n",
    "            elif len(tables) == 1:\n",
    "                    df1 = pd.DataFrame(tables[0])\n",
    "                    df1.drop([0], axis=0, inplace=True)\n",
    "                    merged_table = df1\n",
    "                    merged_table = merged_table.iloc[:,[1,4,7,10]]\n",
    "                    merged_table.columns = ['rank','state','percent','number']\n",
    "            elif len(tables) == 3:\n",
    "                    df1 = pd.DataFrame(tables[1])\n",
    "                    df1.drop([0], axis=0, inplace=True)\n",
    "                    df2 = pd.DataFrame(tables[2])\n",
    "                    df2.drop([0], axis=0, inplace=True)\n",
    "                    merged_table = pd.concat([df1,df2], axis=0,ignore_index=True)\n",
    "                    merged_table = merged_table.iloc[:,[1,4,7,10]]\n",
    "                    merged_table.columns = ['rank','state','percent','number']\n",
    "        merged_table.to_csv(f'./2020_report/{filename}.csv') #modify\n"
   ]
  },
  {
   "cell_type": "code",
   "execution_count": null,
   "metadata": {},
   "outputs": [],
   "source": [
    "with pdfplumber.open('State of Mental Health in America - 2020_0.pdf') as pdf: #modify\n",
    "    merged_table = None\n",
    "    filename = str(pdf.pages[40].page_number)+'_'+pdf.pages[40].extract_text().split('\\n')[0].lower().replace(' ','_') #modify\n",
    "    tables = pdf.pages[40].extract_tables() #modify\n",
    "    print(len(tables))\n",
    "    df1 = pd.DataFrame(tables[0])\n",
    "    df1.drop([0], axis=0, inplace=True)\n",
    "    merged_table = df1\n",
    "    merged_table = merged_table.iloc[:,[1,4,7,10]]\n",
    "    print(merged_table)\n",
    "    merged_table.columns = ['rank','state','rate','number'] #modify\n",
    "    merged_table.to_csv(f'./2020_report/41_Students_Identified_with_Emotional_Disturbance.csv') #modify"
   ]
  }
 ],
 "metadata": {
  "kernelspec": {
   "display_name": "base",
   "language": "python",
   "name": "python3"
  },
  "language_info": {
   "codemirror_mode": {
    "name": "ipython",
    "version": 3
   },
   "file_extension": ".py",
   "mimetype": "text/x-python",
   "name": "python",
   "nbconvert_exporter": "python",
   "pygments_lexer": "ipython3",
   "version": "3.9.7"
  }
 },
 "nbformat": 4,
 "nbformat_minor": 2
}
