{
 "cells": [
  {
   "cell_type": "code",
   "execution_count": null,
   "id": "ae31266f",
   "metadata": {},
   "outputs": [],
   "source": [
    "import csv\n",
    "import requests\n",
    "\n",
    "# Your API key (make sure to use your actual API key)\n",
    "api_key = 'api key'\n",
    "all_data = []\n",
    "with open('/content/drive/MyDrive/Colab Notebooks/hrsa_processed_data/filtered_CA.csv') as f:\n",
    "  ff=csv.reader(f)\n",
    "  next(ff)\n",
    "  for i in ff:\n",
    "    address = ' '.join([i[2], i[3], i[4]])\n",
    "    url = f\"https://maps.googleapis.com/maps/api/geocode/json?address={address}&key={api_key}\"\n",
    "\n",
    "    # Send the GET request\n",
    "    response = requests.get(url)\n",
    "\n",
    "    # Check if the request was successful\n",
    "    if response.status_code == 200:\n",
    "        # Parse the response JSON\n",
    "        geocode_data = response.json()\n",
    "\n",
    "        # Check if any results were returned\n",
    "        if geocode_data['status'] == 'OK':\n",
    "            # Extract latitude and longitude\n",
    "            latitude = geocode_data['results'][0]['geometry']['location']['lat']\n",
    "            longitude = geocode_data['results'][0]['geometry']['location']['lng']\n",
    "            i.append(latitude)\n",
    "            i.append(longitude)\n",
    "            all_data.append(i)\n",
    "            #print(f\"Coordinates: {latitude}, {longitude}\")\n",
    "        else:\n",
    "            print(\"Geocoding failed with status: \" + geocode_data['status'])\n",
    "            print(address)\n",
    "    else:\n",
    "        print(\"Request failed with status code: \" + str(response.status_code))\n",
    "        print(address)\n",
    "\n",
    "with open('/content/drive/MyDrive/Colab Notebooks/coordi_data/CA.csv', 'w') as f:\n",
    "    f.write('Site Name,Site Address,Site City,Site State,Site Zip Code,County,Latitude,Longitude\\n')\n",
    "\n",
    "    for i in all_data:\n",
    "        # Enclose each field in double-quotes to handle commas within the values\n",
    "        a = ','.join(['\"{}\"'.format(field) for field in [i[0], i[1], i[2], i[3], i[4], i[5], str(i[6]), str(i[7])]])\n",
    "        f.write(a + '\\n')  # Add a newline character at the end of each line"
   ]
  }
 ],
 "metadata": {
  "kernelspec": {
   "display_name": "Python 3 (ipykernel)",
   "language": "python",
   "name": "python3"
  },
  "language_info": {
   "codemirror_mode": {
    "name": "ipython",
    "version": 3
   },
   "file_extension": ".py",
   "mimetype": "text/x-python",
   "name": "python",
   "nbconvert_exporter": "python",
   "pygments_lexer": "ipython3",
   "version": "3.9.12"
  }
 },
 "nbformat": 4,
 "nbformat_minor": 5
}
